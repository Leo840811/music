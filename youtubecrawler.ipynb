{
 "cells": [
  {
   "cell_type": "markdown",
   "id": "5ff34601",
   "metadata": {},
   "source": [
    "# 下載youtube播放清單成mp4"
   ]
  },
  {
   "cell_type": "markdown",
   "id": "0cc305ba",
   "metadata": {},
   "source": []
  },
  {
   "cell_type": "code",
   "execution_count": 5,
   "id": "b67fa5e6",
   "metadata": {},
   "outputs": [
    {
     "name": "stdout",
     "output_type": "stream",
     "text": [
      "testmusic\n"
     ]
    }
   ],
   "source": [
    "from pytube import Playlist\n",
    "\n",
    "# 建立 Playlist 物件\n",
    "p = Playlist('https://www.youtube.com/playlist?list=PLQW_s3feqm8VxMTf93rjupDQJfff6vK-O')\n",
    "\n",
    "# 撥放清單標題\n",
    "print(p.title)\n",
    "n=0\n",
    "# 逐一處理撥放清單中的影片\n",
    "for video in p.videos:\n",
    "    # 下載 YouTube 影片\n",
    "    progMP4 = video.streams.filter(progressive=True, file_extension='mp4')\n",
    "    targetMP4 = progMP4.order_by('resolution').desc().first()\n",
    "    n = n+1\n",
    "    name = '%s.mp4' % (n)\n",
    "    video_file = targetMP4.download(output_path='C:/Users/User/Desktop/期末專題/音樂/test/hiphop/hiphopmp4' , filename=name)"
   ]
  },
  {
   "cell_type": "markdown",
   "id": "ac54be37",
   "metadata": {},
   "source": [
    "# mp4轉wav"
   ]
  },
  {
   "cell_type": "code",
   "execution_count": 1,
   "id": "259c7cd9",
   "metadata": {},
   "outputs": [
    {
     "name": "stdout",
     "output_type": "stream",
     "text": [
      "MoviePy - Writing audio in C:/Users/User/Desktop/期末專題/音樂/test/hiphop/hiphopwav/1.wav\n"
     ]
    },
    {
     "name": "stderr",
     "output_type": "stream",
     "text": [
      "                                                                      \r"
     ]
    },
    {
     "name": "stdout",
     "output_type": "stream",
     "text": [
      "MoviePy - Done.\n",
      "MoviePy - Writing audio in C:/Users/User/Desktop/期末專題/音樂/test/hiphop/hiphopwav/2.wav\n"
     ]
    },
    {
     "name": "stderr",
     "output_type": "stream",
     "text": [
      "                                                                      \r"
     ]
    },
    {
     "name": "stdout",
     "output_type": "stream",
     "text": [
      "MoviePy - Done.\n",
      "MoviePy - Writing audio in C:/Users/User/Desktop/期末專題/音樂/test/hiphop/hiphopwav/3.wav\n"
     ]
    },
    {
     "name": "stderr",
     "output_type": "stream",
     "text": [
      "                                                                      \r"
     ]
    },
    {
     "name": "stdout",
     "output_type": "stream",
     "text": [
      "MoviePy - Done.\n",
      "MoviePy - Writing audio in C:/Users/User/Desktop/期末專題/音樂/test/hiphop/hiphopwav/4.wav\n"
     ]
    },
    {
     "name": "stderr",
     "output_type": "stream",
     "text": [
      "                                                                      \r"
     ]
    },
    {
     "name": "stdout",
     "output_type": "stream",
     "text": [
      "MoviePy - Done.\n",
      "MoviePy - Writing audio in C:/Users/User/Desktop/期末專題/音樂/test/hiphop/hiphopwav/5.wav\n"
     ]
    },
    {
     "name": "stderr",
     "output_type": "stream",
     "text": [
      "                                                                      \r"
     ]
    },
    {
     "name": "stdout",
     "output_type": "stream",
     "text": [
      "MoviePy - Done.\n",
      "MoviePy - Writing audio in C:/Users/User/Desktop/期末專題/音樂/test/hiphop/hiphopwav/6.wav\n"
     ]
    },
    {
     "name": "stderr",
     "output_type": "stream",
     "text": [
      "                                                                      \r"
     ]
    },
    {
     "name": "stdout",
     "output_type": "stream",
     "text": [
      "MoviePy - Done.\n",
      "MoviePy - Writing audio in C:/Users/User/Desktop/期末專題/音樂/test/hiphop/hiphopwav/7.wav\n"
     ]
    },
    {
     "name": "stderr",
     "output_type": "stream",
     "text": [
      "                                                                      \r"
     ]
    },
    {
     "name": "stdout",
     "output_type": "stream",
     "text": [
      "MoviePy - Done.\n",
      "MoviePy - Writing audio in C:/Users/User/Desktop/期末專題/音樂/test/hiphop/hiphopwav/8.wav\n"
     ]
    },
    {
     "name": "stderr",
     "output_type": "stream",
     "text": [
      "                                                                      \r"
     ]
    },
    {
     "name": "stdout",
     "output_type": "stream",
     "text": [
      "MoviePy - Done.\n",
      "MoviePy - Writing audio in C:/Users/User/Desktop/期末專題/音樂/test/hiphop/hiphopwav/9.wav\n"
     ]
    },
    {
     "name": "stderr",
     "output_type": "stream",
     "text": [
      "                                                                      \r"
     ]
    },
    {
     "name": "stdout",
     "output_type": "stream",
     "text": [
      "MoviePy - Done.\n",
      "MoviePy - Writing audio in C:/Users/User/Desktop/期末專題/音樂/test/hiphop/hiphopwav/10.wav\n"
     ]
    },
    {
     "name": "stderr",
     "output_type": "stream",
     "text": [
      "                                                                      \r"
     ]
    },
    {
     "name": "stdout",
     "output_type": "stream",
     "text": [
      "MoviePy - Done.\n",
      "MoviePy - Writing audio in C:/Users/User/Desktop/期末專題/音樂/test/hiphop/hiphopwav/11.wav\n"
     ]
    },
    {
     "name": "stderr",
     "output_type": "stream",
     "text": [
      "                                                                      \r"
     ]
    },
    {
     "name": "stdout",
     "output_type": "stream",
     "text": [
      "MoviePy - Done.\n",
      "MoviePy - Writing audio in C:/Users/User/Desktop/期末專題/音樂/test/hiphop/hiphopwav/12.wav\n"
     ]
    },
    {
     "name": "stderr",
     "output_type": "stream",
     "text": [
      "                                                                      \r"
     ]
    },
    {
     "name": "stdout",
     "output_type": "stream",
     "text": [
      "MoviePy - Done.\n",
      "MoviePy - Writing audio in C:/Users/User/Desktop/期末專題/音樂/test/hiphop/hiphopwav/13.wav\n"
     ]
    },
    {
     "name": "stderr",
     "output_type": "stream",
     "text": [
      "                                                                      \r"
     ]
    },
    {
     "name": "stdout",
     "output_type": "stream",
     "text": [
      "MoviePy - Done.\n",
      "MoviePy - Writing audio in C:/Users/User/Desktop/期末專題/音樂/test/hiphop/hiphopwav/14.wav\n"
     ]
    },
    {
     "name": "stderr",
     "output_type": "stream",
     "text": [
      "                                                                      \r"
     ]
    },
    {
     "name": "stdout",
     "output_type": "stream",
     "text": [
      "MoviePy - Done.\n",
      "MoviePy - Writing audio in C:/Users/User/Desktop/期末專題/音樂/test/hiphop/hiphopwav/15.wav\n"
     ]
    },
    {
     "name": "stderr",
     "output_type": "stream",
     "text": [
      "                                                                      "
     ]
    },
    {
     "name": "stdout",
     "output_type": "stream",
     "text": [
      "MoviePy - Done.\n"
     ]
    },
    {
     "name": "stderr",
     "output_type": "stream",
     "text": [
      "\r"
     ]
    }
   ],
   "source": [
    "from moviepy.editor import *\n",
    "import os\n",
    "\n",
    "initial_count = 1\n",
    "dir = \"C:/Users/User/Desktop/期末專題/音樂/test/hiphop/hiphopmp4\"\n",
    "outputpath = \"C:/Users/User/Desktop/期末專題/音樂/test/hiphop/hiphopwav\"\n",
    "for path in os.listdir(dir):\n",
    "    if os.path.isfile(os.path.join(dir, path)):\n",
    "        initial_count += 1\n",
    "for n in range(1,initial_count):\n",
    "# for n in range(1,2):\n",
    "# for n in os.listdir(dir):\n",
    "    mp4_file = dir+'/%s.mp4' %(n)\n",
    "    wav_file = outputpath+'/%s.wav' %(n)\n",
    "    videoclip = VideoFileClip(mp4_file)\n",
    "    audioclip = videoclip.audio\n",
    "#     audioclip.nchannels = 1\n",
    "    audioclip.write_audiofile(wav_file, fps=44000)\n",
    "    audioclip.close()\n",
    "    videoclip.close()"
   ]
  },
  {
   "cell_type": "markdown",
   "id": "6e036b80",
   "metadata": {},
   "source": [
    "# 切割音樂30s"
   ]
  },
  {
   "cell_type": "code",
   "execution_count": 34,
   "id": "abd4cc52",
   "metadata": {},
   "outputs": [
    {
     "name": "stdout",
     "output_type": "stream",
     "text": [
      "1.wav\n",
      "1-0.wav\n",
      "1-1.wav\n",
      "1-2.wav\n",
      "1-3.wav\n",
      "1-4.wav\n",
      "1-5.wav\n",
      "1-6.wav\n",
      "1-7.wav\n",
      "1-8.wav\n",
      "10.wav\n",
      "10-0.wav\n",
      "10-1.wav\n",
      "10-2.wav\n",
      "10-3.wav\n",
      "10-4.wav\n",
      "10-5.wav\n",
      "10-6.wav\n",
      "10-7.wav\n",
      "10-8.wav\n",
      "11.wav\n",
      "11-0.wav\n",
      "11-1.wav\n",
      "11-2.wav\n",
      "11-3.wav\n",
      "11-4.wav\n",
      "11-5.wav\n",
      "11-6.wav\n",
      "11-7.wav\n",
      "12.wav\n",
      "12-0.wav\n",
      "12-1.wav\n",
      "12-2.wav\n",
      "12-3.wav\n",
      "12-4.wav\n",
      "12-5.wav\n",
      "12-6.wav\n",
      "13.wav\n",
      "13-0.wav\n",
      "13-1.wav\n",
      "13-2.wav\n",
      "13-3.wav\n",
      "13-4.wav\n",
      "13-5.wav\n",
      "13-6.wav\n",
      "13-7.wav\n",
      "13-8.wav\n",
      "14.wav\n",
      "14-0.wav\n",
      "14-1.wav\n",
      "14-2.wav\n",
      "14-3.wav\n",
      "14-4.wav\n",
      "14-5.wav\n",
      "14-6.wav\n",
      "15.wav\n",
      "15-0.wav\n",
      "15-1.wav\n",
      "15-2.wav\n",
      "15-3.wav\n",
      "15-4.wav\n",
      "2.wav\n",
      "2-0.wav\n",
      "2-1.wav\n",
      "2-2.wav\n",
      "2-3.wav\n",
      "2-4.wav\n",
      "2-5.wav\n",
      "3.wav\n",
      "3-0.wav\n",
      "3-1.wav\n",
      "3-2.wav\n",
      "3-3.wav\n",
      "3-4.wav\n",
      "3-5.wav\n",
      "3-6.wav\n",
      "3-7.wav\n",
      "3-8.wav\n",
      "4.wav\n",
      "4-0.wav\n",
      "4-1.wav\n",
      "4-2.wav\n",
      "4-3.wav\n",
      "4-4.wav\n",
      "4-5.wav\n",
      "4-6.wav\n",
      "4-7.wav\n",
      "5.wav\n",
      "5-0.wav\n",
      "5-1.wav\n",
      "5-2.wav\n",
      "5-3.wav\n",
      "5-4.wav\n",
      "5-5.wav\n",
      "5-6.wav\n",
      "6.wav\n",
      "6-0.wav\n",
      "6-1.wav\n",
      "6-2.wav\n",
      "6-3.wav\n",
      "6-4.wav\n",
      "6-5.wav\n",
      "6-6.wav\n",
      "6-7.wav\n",
      "7.wav\n",
      "7-0.wav\n",
      "7-1.wav\n",
      "7-2.wav\n",
      "7-3.wav\n",
      "8.wav\n",
      "8-0.wav\n",
      "8-1.wav\n",
      "8-2.wav\n",
      "8-3.wav\n",
      "8-4.wav\n",
      "8-5.wav\n",
      "8-6.wav\n",
      "8-7.wav\n",
      "8-8.wav\n",
      "9.wav\n",
      "9-0.wav\n",
      "9-1.wav\n",
      "9-2.wav\n",
      "9-3.wav\n",
      "9-4.wav\n",
      "9-5.wav\n"
     ]
    }
   ],
   "source": [
    "from pydub import AudioSegment\n",
    "from pydub.utils import make_chunks\n",
    "import os, re\n",
    "\n",
    "dir = \"C:/Users/User/Desktop/期末專題/音樂/test/hiphop/hiphopwav\"\n",
    "outputpath = \"C:/Users/User/Desktop/期末專題/音樂/test/hiphop/split30s\"\n",
    "\n",
    "# 迴圈目錄下所有檔案\n",
    "for each in os.listdir(dir):\n",
    "    \n",
    "    filename = re.findall(r\"(.*?)\\.wav\", each) # 取出.wav字尾的檔名\n",
    "    print(each)\n",
    "    if each:\n",
    "        # filename[0] += '.wav'\n",
    "        # print(filename[0])\n",
    "\n",
    "        wav = AudioSegment.from_file((dir+'/{}').format(each), \"wav\") # 開啟wav檔案\n",
    "#         # # mp3[17*1000+500:].export(filename[0], format=\"wav\") #\n",
    "        size = 30000  # 切割的毫秒數 10s=10000\n",
    "\n",
    "        chunks = make_chunks(wav, size)  # 將檔案切割為30s一塊\n",
    "\n",
    "        for i, chunk in enumerate(chunks):\n",
    "\n",
    "            chunk_name = \"{}-{}.wav\".format(each.split(\".\")[0],i)\n",
    "            chunk.export((outputpath+'/{}').format(chunk_name), format=\"wav\")"
   ]
  },
  {
   "cell_type": "markdown",
   "id": "0db2b2c3",
   "metadata": {},
   "source": [
    "# 隨機抽取30s音樂"
   ]
  },
  {
   "cell_type": "code",
   "execution_count": 2,
   "id": "889574e8",
   "metadata": {},
   "outputs": [],
   "source": [
    "from pydub import AudioSegment\n",
    "from pydub.utils import make_chunks\n",
    "import os, re\n",
    "import random\n",
    "import math\n",
    "\n",
    "dir = 'C:/Users/User/Desktop/期末專題/音樂/test/hiphop/hiphopwav'\n",
    "outputpath = 'C:/Users/User/Desktop/期末專題/音樂/test/hiphop/random30s'\n",
    "\n",
    "# 迴圈目錄下所有檔案\n",
    "for each in os.listdir(dir):\n",
    "    \n",
    "    filename = re.findall(r\"(.*?)\\.wav\", each) # 取出.wav字尾的檔名\n",
    "    wav = AudioSegment.from_file((dir+'/{}').format(each), \"wav\")\n",
    "    s = math.floor((wav.duration_seconds)-30)\n",
    "    \n",
    "    for i in range(10): # 要隨機抽幾次\n",
    "        chunk_name = \"{}-{}.wav\".format(each.split(\".\")[0],i)\n",
    "        x = random.randrange(0,s)\n",
    "        wav[x*1000:(x+30)*1000].export((outputpath+'/{}').format(chunk_name), format=\"wav\")\n",
    "    "
   ]
  },
  {
   "cell_type": "code",
   "execution_count": null,
   "id": "00e2a993",
   "metadata": {},
   "outputs": [],
   "source": []
  }
 ],
 "metadata": {
  "kernelspec": {
   "display_name": "Python 3 (ipykernel)",
   "language": "python",
   "name": "python3"
  },
  "language_info": {
   "codemirror_mode": {
    "name": "ipython",
    "version": 3
   },
   "file_extension": ".py",
   "mimetype": "text/x-python",
   "name": "python",
   "nbconvert_exporter": "python",
   "pygments_lexer": "ipython3",
   "version": "3.8.13"
  }
 },
 "nbformat": 4,
 "nbformat_minor": 5
}
