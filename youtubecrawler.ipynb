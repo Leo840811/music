{
 "cells": [
  {
   "cell_type": "markdown",
   "id": "5ff34601",
   "metadata": {},
   "source": [
    "# 下載youtube播放清單成mp4"
   ]
  },
  {
   "cell_type": "code",
   "execution_count": 2,
   "id": "b67fa5e6",
   "metadata": {},
   "outputs": [
    {
     "name": "stdout",
     "output_type": "stream",
     "text": [
      "testmusic\n"
     ]
    }
   ],
   "source": [
    "from pytube import Playlist\n",
    "\n",
    "# 建立 Playlist 物件\n",
    "p = Playlist('https://www.youtube.com/playlist?list=PLQW_s3feqm8VxMTf93rjupDQJfff6vK-O')\n",
    "\n",
    "# 撥放清單標題\n",
    "print(p.title)\n",
    "n=0\n",
    "\n",
    "# 逐一處理撥放清單中的影片\n",
    "for video in p.videos:\n",
    "    # 下載 YouTube 影片\n",
    "    progMP4 = video.streams.filter(progressive=True, file_extension='mp4')\n",
    "    targetMP4 = progMP4.order_by('resolution').desc().first()\n",
    "    n = n+1\n",
    "    name = '%s%s.mp4' % (p.title,n)\n",
    "    video_file = targetMP4.download(output_path='C:/Users/User/Desktop/music/%s/%smp4' %(p.title,p.title) , filename=name)"
   ]
  },
  {
   "cell_type": "markdown",
   "id": "ac54be37",
   "metadata": {},
   "source": [
    "# mp4轉wav"
   ]
  },
  {
   "cell_type": "code",
   "execution_count": 4,
   "id": "259c7cd9",
   "metadata": {},
   "outputs": [
    {
     "name": "stdout",
     "output_type": "stream",
     "text": [
      "MoviePy - Writing audio in C:/Users/User/Desktop/music/testmusic/testmusicwav/testmusic1.wav\n"
     ]
    },
    {
     "name": "stderr",
     "output_type": "stream",
     "text": [
      "                                                                      \r"
     ]
    },
    {
     "name": "stdout",
     "output_type": "stream",
     "text": [
      "MoviePy - Done.\n",
      "MoviePy - Writing audio in C:/Users/User/Desktop/music/testmusic/testmusicwav/testmusic2.wav\n"
     ]
    },
    {
     "name": "stderr",
     "output_type": "stream",
     "text": [
      "                                                                      \r"
     ]
    },
    {
     "name": "stdout",
     "output_type": "stream",
     "text": [
      "MoviePy - Done.\n",
      "MoviePy - Writing audio in C:/Users/User/Desktop/music/testmusic/testmusicwav/testmusic3.wav\n"
     ]
    },
    {
     "name": "stderr",
     "output_type": "stream",
     "text": [
      "                                                                      \r"
     ]
    },
    {
     "name": "stdout",
     "output_type": "stream",
     "text": [
      "MoviePy - Done.\n",
      "MoviePy - Writing audio in C:/Users/User/Desktop/music/testmusic/testmusicwav/testmusic4.wav\n"
     ]
    },
    {
     "name": "stderr",
     "output_type": "stream",
     "text": [
      "                                                                      \r"
     ]
    },
    {
     "name": "stdout",
     "output_type": "stream",
     "text": [
      "MoviePy - Done.\n",
      "MoviePy - Writing audio in C:/Users/User/Desktop/music/testmusic/testmusicwav/testmusic5.wav\n"
     ]
    },
    {
     "name": "stderr",
     "output_type": "stream",
     "text": [
      "                                                                      \r"
     ]
    },
    {
     "name": "stdout",
     "output_type": "stream",
     "text": [
      "MoviePy - Done.\n",
      "MoviePy - Writing audio in C:/Users/User/Desktop/music/testmusic/testmusicwav/testmusic6.wav\n"
     ]
    },
    {
     "name": "stderr",
     "output_type": "stream",
     "text": [
      "                                                                      \r"
     ]
    },
    {
     "name": "stdout",
     "output_type": "stream",
     "text": [
      "MoviePy - Done.\n",
      "MoviePy - Writing audio in C:/Users/User/Desktop/music/testmusic/testmusicwav/testmusic7.wav\n"
     ]
    },
    {
     "name": "stderr",
     "output_type": "stream",
     "text": [
      "                                                                      \r"
     ]
    },
    {
     "name": "stdout",
     "output_type": "stream",
     "text": [
      "MoviePy - Done.\n",
      "MoviePy - Writing audio in C:/Users/User/Desktop/music/testmusic/testmusicwav/testmusic8.wav\n"
     ]
    },
    {
     "name": "stderr",
     "output_type": "stream",
     "text": [
      "                                                                      \r"
     ]
    },
    {
     "name": "stdout",
     "output_type": "stream",
     "text": [
      "MoviePy - Done.\n",
      "MoviePy - Writing audio in C:/Users/User/Desktop/music/testmusic/testmusicwav/testmusic9.wav\n"
     ]
    },
    {
     "name": "stderr",
     "output_type": "stream",
     "text": [
      "                                                                      \r"
     ]
    },
    {
     "name": "stdout",
     "output_type": "stream",
     "text": [
      "MoviePy - Done.\n",
      "MoviePy - Writing audio in C:/Users/User/Desktop/music/testmusic/testmusicwav/testmusic10.wav\n"
     ]
    },
    {
     "name": "stderr",
     "output_type": "stream",
     "text": [
      "                                                                      \r"
     ]
    },
    {
     "name": "stdout",
     "output_type": "stream",
     "text": [
      "MoviePy - Done.\n",
      "MoviePy - Writing audio in C:/Users/User/Desktop/music/testmusic/testmusicwav/testmusic11.wav\n"
     ]
    },
    {
     "name": "stderr",
     "output_type": "stream",
     "text": [
      "                                                                      \r"
     ]
    },
    {
     "name": "stdout",
     "output_type": "stream",
     "text": [
      "MoviePy - Done.\n",
      "MoviePy - Writing audio in C:/Users/User/Desktop/music/testmusic/testmusicwav/testmusic12.wav\n"
     ]
    },
    {
     "name": "stderr",
     "output_type": "stream",
     "text": [
      "                                                                      \r"
     ]
    },
    {
     "name": "stdout",
     "output_type": "stream",
     "text": [
      "MoviePy - Done.\n",
      "MoviePy - Writing audio in C:/Users/User/Desktop/music/testmusic/testmusicwav/testmusic13.wav\n"
     ]
    },
    {
     "name": "stderr",
     "output_type": "stream",
     "text": [
      "                                                                      \r"
     ]
    },
    {
     "name": "stdout",
     "output_type": "stream",
     "text": [
      "MoviePy - Done.\n",
      "MoviePy - Writing audio in C:/Users/User/Desktop/music/testmusic/testmusicwav/testmusic14.wav\n"
     ]
    },
    {
     "name": "stderr",
     "output_type": "stream",
     "text": [
      "                                                                      \r"
     ]
    },
    {
     "name": "stdout",
     "output_type": "stream",
     "text": [
      "MoviePy - Done.\n",
      "MoviePy - Writing audio in C:/Users/User/Desktop/music/testmusic/testmusicwav/testmusic15.wav\n"
     ]
    },
    {
     "name": "stderr",
     "output_type": "stream",
     "text": [
      "                                                                      \r"
     ]
    },
    {
     "name": "stdout",
     "output_type": "stream",
     "text": [
      "MoviePy - Done.\n"
     ]
    }
   ],
   "source": [
    "from moviepy.editor import *\n",
    "import os\n",
    "\n",
    "# 設定路徑\n",
    "dir = 'C:/Users/User/Desktop/music/%s/%smp4' %(p.title,p.title)\n",
    "outputpath = 'C:/Users/User/Desktop/music/%s/%swav' %(p.title,p.title)\n",
    "\n",
    "# 如果沒有資料夾建立資料夾\n",
    "if not os.path.isdir(outputpath):\n",
    "    os.mkdir(outputpath)\n",
    "\n",
    "\n",
    "initial_count = 1\n",
    "\n",
    "\n",
    "for path in os.listdir(dir):\n",
    "    if os.path.isfile(os.path.join(dir, path)):\n",
    "        initial_count += 1\n",
    "\n",
    "\n",
    "for n in range(1,initial_count):\n",
    "# for n in range(1,2):\n",
    "# for n in os.listdir(dir):\n",
    "    mp4_file = dir+'/%s%s.mp4' %(p.title,n)\n",
    "    wav_file = outputpath+'/%s%s.wav' %(p.title,n)\n",
    "    videoclip = VideoFileClip(mp4_file)\n",
    "    audioclip = videoclip.audio\n",
    "#     audioclip.nchannels = 1    # 設定聲道數\n",
    "    audioclip.write_audiofile(wav_file, fps=44000)\n",
    "    audioclip.close()\n",
    "    videoclip.close()"
   ]
  },
  {
   "cell_type": "markdown",
   "id": "6e036b80",
   "metadata": {},
   "source": [
    "# 切割音樂30s"
   ]
  },
  {
   "cell_type": "code",
   "execution_count": 10,
   "id": "abd4cc52",
   "metadata": {
    "scrolled": true
   },
   "outputs": [
    {
     "name": "stdout",
     "output_type": "stream",
     "text": [
      "testmusic1.wav\n",
      "testmusic10.wav\n",
      "testmusic11.wav\n",
      "testmusic12.wav\n",
      "testmusic13.wav\n",
      "testmusic14.wav\n",
      "testmusic15.wav\n",
      "testmusic2.wav\n",
      "testmusic3.wav\n",
      "testmusic4.wav\n",
      "testmusic5.wav\n",
      "testmusic6.wav\n",
      "testmusic7.wav\n",
      "testmusic8.wav\n",
      "testmusic9.wav\n"
     ]
    }
   ],
   "source": [
    "from pydub import AudioSegment\n",
    "from pydub.utils import make_chunks\n",
    "import os, re\n",
    "\n",
    "# 設定路徑\n",
    "dir = 'C:/Users/User/Desktop/music/%s/%swav' %(p.title,p.title)\n",
    "outputpath = 'C:/Users/User/Desktop/music/%s/%ssplit30s' %(p.title,p.title)\n",
    "\n",
    "# 如果沒有資料夾建立資料夾\n",
    "if not os.path.isdir(outputpath):\n",
    "    os.mkdir(outputpath)\n",
    "\n",
    "# 迴圈目錄下所有檔案\n",
    "for each in os.listdir(dir):\n",
    "    \n",
    "    filename = re.findall(r\"(.*?)\\.wav\", each) # 取出.wav字尾的檔名\n",
    "    print(each)\n",
    "    if each:\n",
    "        # filename[0] += '.wav'\n",
    "        # print(filename[0])\n",
    "\n",
    "        wav = AudioSegment.from_file((dir+'/{}').format(each), \"wav\") # 開啟wav檔案\n",
    "        size = 30000  # 切割的毫秒數 1s=1000\n",
    "\n",
    "        chunks = make_chunks(wav, size)  # 將檔案切割為30s一塊\n",
    "\n",
    "        for i, chunk in enumerate(chunks):\n",
    "            if i>=1 and len(chunk) >= 29999:   # 不取前30s及最後不到30s的部分\n",
    "                chunk_name = \"{}-{}.wav\".format(each.split(\".\")[0],i)\n",
    "                chunk.export((outputpath+'/{}').format(chunk_name), format=\"wav\")"
   ]
  },
  {
   "cell_type": "markdown",
   "id": "0db2b2c3",
   "metadata": {},
   "source": [
    "# 隨機抽取30s音樂"
   ]
  },
  {
   "cell_type": "code",
   "execution_count": 9,
   "id": "889574e8",
   "metadata": {},
   "outputs": [],
   "source": [
    "from pydub import AudioSegment\n",
    "from pydub.utils import make_chunks\n",
    "import os, re\n",
    "import random\n",
    "import math\n",
    "\n",
    "# 設定路徑\n",
    "dir = 'C:/Users/User/Desktop/music/%s/%swav' %(p.title,p.title)\n",
    "outputpath = 'C:/Users/User/Desktop/music/%s/%srandom30s' %(p.title,p.title)\n",
    "\n",
    "# 如果沒有資料夾建立資料夾\n",
    "if not os.path.isdir(outputpath):\n",
    "    os.mkdir(outputpath)\n",
    "\n",
    "# 迴圈目錄下所有檔案\n",
    "for each in os.listdir(dir):\n",
    "    print(each)\n",
    "    filename = re.findall(r\"(.*?)\\.wav\", each) # 取出.wav字尾的檔名\n",
    "    wav = AudioSegment.from_file((dir+'/{}').format(each), \"wav\")\n",
    "    s = math.floor((wav.duration_seconds)-30)\n",
    "    \n",
    "    for i in range(10): # 要隨機抽幾次\n",
    "        chunk_name = \"{}-{}.wav\".format(each.split(\".\")[0],i)\n",
    "        x = random.randrange(0,s)\n",
    "        wav[x*1000:(x+30)*1000].export((outputpath+'/{}').format(chunk_name), format=\"wav\")\n",
    "    "
   ]
  }
 ],
 "metadata": {
  "kernelspec": {
   "display_name": "Python 3 (ipykernel)",
   "language": "python",
   "name": "python3"
  },
  "language_info": {
   "codemirror_mode": {
    "name": "ipython",
    "version": 3
   },
   "file_extension": ".py",
   "mimetype": "text/x-python",
   "name": "python",
   "nbconvert_exporter": "python",
   "pygments_lexer": "ipython3",
   "version": "3.8.13"
  }
 },
 "nbformat": 4,
 "nbformat_minor": 5
}
