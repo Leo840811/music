{
 "cells": [
  {
   "cell_type": "code",
   "execution_count": null,
   "id": "16a399e2",
   "metadata": {},
   "outputs": [],
   "source": [
    "import pandas as pd\n",
    "import numpy as np\n",
    "import seaborn as sns\n",
    "import matplotlib.pyplot as plt\n",
    "%matplotlib inline\n",
    "import sklearn\n",
    "import warnings\n",
    "warnings.filterwarnings('ignore')\n",
    "import os\n",
    "import time"
   ]
  },
  {
   "cell_type": "code",
   "execution_count": null,
   "id": "826be072",
   "metadata": {},
   "outputs": [],
   "source": [
    "from sklearn.naive_bayes import GaussianNB\n",
    "from sklearn.naive_bayes import MultinomialNB\n",
    "from sklearn.linear_model import SGDClassifier, LogisticRegression\n",
    "from sklearn.neighbors import KNeighborsClassifier\n",
    "from sklearn.tree import DecisionTreeClassifier\n",
    "from sklearn.ensemble import RandomForestClassifier\n",
    "from sklearn.svm import SVC\n",
    "from sklearn.neural_network import MLPClassifier\n",
    "from xgboost import XGBClassifier, XGBRFClassifier\n",
    "from xgboost import plot_tree, plot_importance\n",
    "from sklearn.metrics import confusion_matrix, accuracy_score, roc_auc_score, roc_curve\n",
    "from sklearn.metrics import average_precision_score,precision_score,f1_score,recall_score\n",
    "from sklearn import preprocessing\n",
    "from sklearn.model_selection import train_test_split\n",
    "from sklearn.feature_selection import RFE\n",
    "from sklearn.model_selection import GridSearchCV\n",
    "# from sklearn.datasets import load_breast_cancer"
   ]
  },
  {
   "cell_type": "code",
   "execution_count": null,
   "id": "96026ad5",
   "metadata": {
    "scrolled": true
   },
   "outputs": [],
   "source": [
    "# 讀取完整csv檔\n",
    "df = pd.read_csv('./finalcsv/finalcsv30s.csv', index_col=0)\n",
    "df"
   ]
  },
  {
   "cell_type": "code",
   "execution_count": null,
   "id": "1967940c",
   "metadata": {},
   "outputs": [],
   "source": [
    "# 將label字串轉成數字的類別0-9\n",
    "df['label']=df['label'].replace(['blues','classical','country','disco','hiphop','jazz','metal','pop'\n",
    ",'reggae','rock'],[0,1,2,3,4,5,6,7,8,9])"
   ]
  },
  {
   "cell_type": "code",
   "execution_count": null,
   "id": "bc3fbe33",
   "metadata": {},
   "outputs": [],
   "source": [
    "# 將song_name欄位丟掉\n",
    "df = df.drop(['song_name','videoname','url','songid'], axis=1)\n",
    "# 確定剩下數字資料型態\n",
    "df"
   ]
  },
  {
   "cell_type": "code",
   "execution_count": null,
   "id": "5c374594",
   "metadata": {},
   "outputs": [],
   "source": [
    "# 分成特徵欄位及預測目標欄位\n",
    "y = df['label']\n",
    "\n",
    "# X = df.loc[:, df.columns != 'label'] # label以外的欄位\n",
    "X = df.iloc[:, [0,1,2,3,4,5,6,7]]\n",
    "\n",
    "#### NORMALIZE X ####\n",
    "\n",
    "# 對特徵值做標準化\n",
    "cols = X.columns\n",
    "min_max_scaler = preprocessing.MinMaxScaler()\n",
    "np_scaled = min_max_scaler.fit_transform(X)\n",
    "\n",
    "# 新dataframe用標準化過的特徵值\n",
    "X = pd.DataFrame(np_scaled, columns = cols)"
   ]
  },
  {
   "cell_type": "code",
   "execution_count": null,
   "id": "aa675161",
   "metadata": {},
   "outputs": [],
   "source": [
    "X"
   ]
  },
  {
   "cell_type": "code",
   "execution_count": null,
   "id": "a57917cd",
   "metadata": {},
   "outputs": [],
   "source": [
    "y"
   ]
  },
  {
   "cell_type": "code",
   "execution_count": null,
   "id": "e0effb66",
   "metadata": {},
   "outputs": [],
   "source": [
    "# 切成訓練集合測試集\n",
    "X_train, X_test, y_train, y_test = train_test_split(X, y, test_size=0.3, random_state=42)"
   ]
  },
  {
   "cell_type": "markdown",
   "id": "8e3036df",
   "metadata": {},
   "source": [
    "# KNN超參數優化器"
   ]
  },
  {
   "cell_type": "code",
   "execution_count": null,
   "id": "9d8b53e1",
   "metadata": {},
   "outputs": [],
   "source": [
    "start = time.perf_counter()\n",
    "\n",
    "\n",
    "kn = KNeighborsClassifier()\n",
    "params = {\n",
    "    'n_neighbors' : [10],    # 邻居个数\n",
    "    'weights': ['uniform', 'distance'],    # uniform不带距离权重,distance带有距离权重\n",
    "    'algorithm': ['auto', 'ball_tree', 'kd_tree', 'brute']    # 搜尋數演算法\n",
    "}\n",
    "grid_kn = GridSearchCV(estimator = kn,\n",
    "                        param_grid = params,\n",
    "                        scoring = 'accuracy', \n",
    "                        cv = 5,    # cv=交叉驗證參數,\n",
    "                        refit = True,\n",
    "                        n_jobs = -1)    # verbose=0不輸出訓練過程=2輸出訓練過程 n_job=-1用所有cpu\n",
    "\n",
    "grid_kn.fit(X_train, y_train)\n",
    "\n",
    "y_pred = grid_kn.predict(X_test)\n",
    "print(grid_kn.best_params_)\n",
    "print(grid_kn.score(X_test, y_test))\n",
    "\n",
    "print(\"This time is being calculated\")\n",
    "\n",
    "end = time.perf_counter()\n",
    "\n",
    "print(end - start)"
   ]
  },
  {
   "cell_type": "markdown",
   "id": "5efce402",
   "metadata": {},
   "source": [
    "# Random Forest超參數優化器"
   ]
  },
  {
   "cell_type": "code",
   "execution_count": null,
   "id": "81f4f1db",
   "metadata": {
    "scrolled": true
   },
   "outputs": [],
   "source": [
    "start = time.perf_counter()\n",
    "\n",
    "\n",
    "rfc=RandomForestClassifier(random_state=42)\n",
    "params = { \n",
    "    'n_estimators': [500,1000],    # 森林裡樹木的數量\n",
    "    'max_features': ['auto', 'sqrt', 'log2'],    # 每個決策樹最大的特徵數量\n",
    "    'max_depth' : [8,10,15,20],    # 樹的最大深度\n",
    "    'criterion' :['gini', 'entropy']    # 分類依據\n",
    "}\n",
    "\n",
    "grid_rfc = GridSearchCV(estimator=rfc, \n",
    "                        param_grid=params, \n",
    "                        cv= 5,\n",
    "                        refit = True,\n",
    "                        n_jobs = -1)\n",
    "\n",
    "grid_rfc.fit(X_train, y_train)\n",
    "\n",
    "y_pred = grid_rfc.predict(X_test)\n",
    "\n",
    "print(grid_rfc.best_params_)\n",
    "print(grid_rfc.score(X_test, y_test))\n",
    "\n",
    "\n",
    "print(\"This time is being calculated\")\n",
    "\n",
    "end = time.perf_counter()\n",
    "\n",
    "print(end - start)"
   ]
  },
  {
   "cell_type": "markdown",
   "id": "f4445a37",
   "metadata": {},
   "source": [
    "# SVC超參數優化器"
   ]
  },
  {
   "cell_type": "code",
   "execution_count": null,
   "id": "54a79fa6",
   "metadata": {},
   "outputs": [],
   "source": [
    "start = time.perf_counter()\n",
    "\n",
    "\n",
    "svc = SVC()\n",
    "params = {\n",
    "    'C':[1,10,100,1000],    # 惩罚参数\n",
    "    'gamma':[1,0.1,0.001,0.0001],     # gamma越大，支持向量越少，gamma值越小，支持向量越多。支持向量的个数影响训练与预测的速度\n",
    "    'kernel':['linear','rbf'],     # 核函数\n",
    "    'decision_function_shape':['ovo', 'ovr']    # 分类器\n",
    "}\n",
    "grid_svc = GridSearchCV(estimator = svc,\n",
    "                        param_grid = params,\n",
    "                        scoring = 'accuracy', \n",
    "                        cv = 5,\n",
    "                        refit = True,\n",
    "                        n_jobs = -1)\n",
    "\n",
    "grid_svc.fit(X_train, y_train)\n",
    "\n",
    "y_pred = grid_svc.predict(X_test)\n",
    "\n",
    "print(grid_svc.best_params_)\n",
    "print(grid_svc.score(X_test, y_test))\n",
    "\n",
    "print(\"This time is being calculated\")\n",
    "\n",
    "end = time.perf_counter()\n",
    "\n",
    "print(end - start)"
   ]
  },
  {
   "cell_type": "markdown",
   "id": "46099650",
   "metadata": {},
   "source": [
    "# Logistic Regression超參數優化器"
   ]
  },
  {
   "cell_type": "code",
   "execution_count": null,
   "id": "890abc03",
   "metadata": {},
   "outputs": [],
   "source": [
    "start = time.perf_counter()\n",
    "\n",
    "\n",
    "lg = LogisticRegression()\n",
    "params = {\n",
    "    \"C\":[1,10,100,1000],     # 正则化系数λ的倒数，越小的数值表示越强的正则化\n",
    "    \"penalty\":[\"l1\",\"l2\"],    # 惩罚项\n",
    "    'multi_class':['multinomial', 'ovr'],}    # 分类方式选择参数\n",
    "grid_lg = GridSearchCV(estimator = lg,\n",
    "                        param_grid = params,\n",
    "                        scoring = 'accuracy', \n",
    "                        cv = 5,\n",
    "                        refit = True,\n",
    "                        n_jobs = -1)\n",
    "\n",
    "grid_lg.fit(X_train, y_train)\n",
    "\n",
    "y_pred = grid_lg.predict(X_test)\n",
    "\n",
    "print(grid_lg.best_params_)\n",
    "print(grid_lg.score(X_test, y_test))\n",
    "\n",
    "print(\"This time is being calculated\")\n",
    "\n",
    "end = time.perf_counter()\n",
    "\n",
    "print(end - start)"
   ]
  },
  {
   "cell_type": "markdown",
   "id": "542ed150",
   "metadata": {},
   "source": [
    "# XGBoost超參數優化器"
   ]
  },
  {
   "cell_type": "code",
   "execution_count": null,
   "id": "bffac3cd",
   "metadata": {},
   "outputs": [],
   "source": [
    "start = time.perf_counter()\n",
    "\n",
    "\n",
    "xgb = XGBClassifier()\n",
    "params = {'objective':['binary:logistic'],    # 輸出概率\n",
    "              'learning_rate': [0.3,0.1],    # 更新过程中用到的收缩步长 (0-1)\n",
    "              'max_depth': [6,24],    # 树的最大深度 (1-無限)\n",
    "              'min_child_weight': [1,10],    # 决定最小叶子节点样本权重和，加权和低于这个值时，就不再分裂产生新的叶子节点(0-無限)\n",
    "              'subsample': [0.6,0.8],    # 这个参数控制对于每棵树，随机采样的比例 (0-1)\n",
    "              'colsample_bytree': [0.6,0.8],    # 用来控制每颗树随机采样的列数的占比 (0-1)\n",
    "              'n_estimators': [10,100],    # n_estimators：弱學習器的数量 (0-無限)\n",
    "              'seed': [42]}    # 給定種子數，固定42\n",
    "\n",
    "grid_xgb = GridSearchCV(estimator = xgb,\n",
    "                        param_grid = params,\n",
    "                        scoring = 'accuracy', \n",
    "                        cv = 5,\n",
    "                        n_jobs = -1)\n",
    "\n",
    "grid_xgb.fit(X_train, y_train)\n",
    "\n",
    "y_pred = grid_xgb.predict(X_test)\n",
    "\n",
    "print(grid_xgb.best_params_)\n",
    "print(grid_xgb.score(X_test, y_test))\n",
    "\n",
    "print(\"This time is being calculated\")\n",
    "\n",
    "end = time.perf_counter()\n",
    "\n",
    "print(end - start)"
   ]
  },
  {
   "cell_type": "markdown",
   "id": "27efc920",
   "metadata": {},
   "source": [
    "# 混淆矩陣及分數"
   ]
  },
  {
   "cell_type": "code",
   "execution_count": null,
   "id": "fcfc6d72",
   "metadata": {},
   "outputs": [],
   "source": [
    "# Confusion Matrix\n",
    "confusion_matr = confusion_matrix(y_test, y_pred) #normalize = 'true'\n",
    "plt.figure(figsize = (16, 9))\n",
    "sns.heatmap(confusion_matr, cmap=\"Blues\", annot=True, \n",
    "            xticklabels = [\"blues\", \"classical\", \"country\", \"disco\", \"hiphop\", \"jazz\", \"metal\", \"pop\", \"reggae\", \"rock\"],\n",
    "           yticklabels=[\"blues\", \"classical\", \"country\", \"disco\", \"hiphop\", \"jazz\", \"metal\", \"pop\", \"reggae\", \"rock\"]);\n",
    "# plt.savefig(\"conf matrix\")"
   ]
  },
  {
   "cell_type": "code",
   "execution_count": null,
   "id": "aa65800e",
   "metadata": {},
   "outputs": [],
   "source": [
    "print('------Weighted------')\n",
    "print('Weighted precision', precision_score(y_test, y_pred, average='weighted'))\n",
    "print('Weighted recall', recall_score(y_test, y_pred, average='weighted'))\n",
    "print('Weighted f1-score', f1_score(y_test, y_pred, average='weighted'))\n",
    "print('------Macro------')\n",
    "print('Macro precision', precision_score(y_test, y_pred, average='macro'))\n",
    "print('Macro recall', recall_score(y_test, y_pred, average='macro'))\n",
    "print('Macro f1-score', f1_score(y_test, y_pred, average='macro'))\n",
    "print('------Micro------')\n",
    "print('Micro precision', precision_score(y_test, y_pred, average='micro'))\n",
    "print('Micro recall', recall_score(y_test, y_pred, average='micro'))\n",
    "print('Micro f1-score', f1_score(y_test, y_pred, average='micro'))"
   ]
  },
  {
   "cell_type": "code",
   "execution_count": null,
   "id": "7b4ba0e9",
   "metadata": {},
   "outputs": [],
   "source": []
  }
 ],
 "metadata": {
  "kernelspec": {
   "display_name": "Python 3 (ipykernel)",
   "language": "python",
   "name": "python3"
  },
  "language_info": {
   "codemirror_mode": {
    "name": "ipython",
    "version": 3
   },
   "file_extension": ".py",
   "mimetype": "text/x-python",
   "name": "python",
   "nbconvert_exporter": "python",
   "pygments_lexer": "ipython3",
   "version": "3.8.13"
  }
 },
 "nbformat": 4,
 "nbformat_minor": 5
}
