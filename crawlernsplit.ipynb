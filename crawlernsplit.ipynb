{
 "cells": [
  {
   "cell_type": "markdown",
   "id": "5ff34601",
   "metadata": {},
   "source": [
    "# 下載youtube播放清單成mp4"
   ]
  },
  {
   "cell_type": "code",
   "execution_count": 40,
   "id": "9f08f3fb",
   "metadata": {},
   "outputs": [],
   "source": [
    "from pytube import Playlist\n",
    "from moviepy.editor import *\n",
    "from pydub import AudioSegment\n",
    "from pydub.utils import make_chunks\n",
    "from pydub import AudioSegment\n",
    "import os, re\n",
    "import random\n",
    "import math\n",
    "import time\n",
    "\n",
    "# 下載youtube播放清單成mp4\n",
    "def download(p):\n",
    "\n",
    "    # 撥放清單標題\n",
    "    print(p.title)\n",
    "    \n",
    "    n=0\n",
    "\n",
    "    # 逐一處理撥放清單中的影片\n",
    "    for video in p.videos:\n",
    "        try:\n",
    "            progMP4 = video.streams.filter(progressive=True, file_extension='mp4')\n",
    "            targetMP4 = progMP4.order_by('resolution').desc().first()\n",
    "            n = n+1\n",
    "            name = '%s%s.mp4' % (p.title,n)\n",
    "            video_file = targetMP4.download(output_path='./musicfile/mp4/%s' %(p.title) , filename=name)\n",
    "        except: #有錯誤時跳過\n",
    "            print('%sError' %(n))\n",
    "            pass\n",
    "\n",
    "# mp4轉檔成wav\n",
    "def videotowav(p):\n",
    "    \n",
    "    dir = './musicfile/mp4/%s' %(p.title)\n",
    "    parentfolder = './musicfile/wav'\n",
    "    outputpath = './musicfile/wav/%s' %(p.title)\n",
    "\n",
    "    # 如果沒有資料夾建立資料夾\n",
    "    if not os.path.isdir(parentfolder):\n",
    "        os.mkdir(parentfolder)\n",
    "    if not os.path.isdir(outputpath):\n",
    "        os.mkdir(outputpath)\n",
    "\n",
    "\n",
    "    initial_count = 1\n",
    "\n",
    "\n",
    "    for path in os.listdir(dir):\n",
    "        if os.path.isfile(os.path.join(dir, path)):\n",
    "            initial_count += 1\n",
    "\n",
    "\n",
    "    for n in range(1,initial_count):\n",
    "    # for n in range(1,2):\n",
    "    # for n in os.listdir(dir):\n",
    "        mp4_file = dir+'/%s%s.mp4' %(p.title,n)\n",
    "        wav_file = outputpath+'/%s%s.wav' %(p.title,n)\n",
    "        videoclip = VideoFileClip(mp4_file)\n",
    "        audioclip = videoclip.audio\n",
    "    #   audioclip.nchannels = 1    # 設定聲道數\n",
    "        audioclip.write_audiofile(wav_file, fps=44000)\n",
    "        audioclip.close()\n",
    "        videoclip.close()    \n",
    "\n",
    "# wav分割成30s\n",
    "def split30s(p):\n",
    "\n",
    "    dir = './musicfile/wav/%s' %(p.title)\n",
    "    parentfolder = './musicfile/30s'\n",
    "    outputpath = './musicfile/30s/%s' %(p.title)\n",
    "\n",
    "    # 如果沒有資料夾建立資料夾\n",
    "    if not os.path.isdir(parentfolder):\n",
    "        os.mkdir(parentfolder)\n",
    "    if not os.path.isdir(outputpath):\n",
    "        os.mkdir(outputpath)\n",
    "\n",
    "    # 迴圈目錄下所有檔案\n",
    "    for each in os.listdir(dir):\n",
    "\n",
    "        filename = re.findall(r\"(.*?)\\.wav\", each) # 取出.wav字尾的檔名\n",
    "        print(each)\n",
    "        if each:\n",
    "            # filename[0] += '.wav'\n",
    "            # print(filename[0])\n",
    "\n",
    "            wav = AudioSegment.from_file((dir+'/{}').format(each), \"wav\") # 開啟wav檔案\n",
    "            size = 30000  # 切割的毫秒數 1s=1000\n",
    "\n",
    "            chunks = make_chunks(wav, size)  # 將檔案切割為30s一塊\n",
    "\n",
    "            for i, chunk in enumerate(chunks):\n",
    "                if i>=1 and len(chunk) >= 29999:   # 不取前30s及最後不到30s的部分\n",
    "                    chunk_name = \"{}-{}.wav\".format(each.split(\".\")[0],i)\n",
    "                    chunk.export((outputpath+'/{}').format(chunk_name), format=\"wav\")\n",
    "\n",
    "# wav分割成3s\n",
    "def split3s(p):\n",
    "    \n",
    "    dir = './musicfile/wav/%s' %(p.title)\n",
    "    parentfolder = './musicfile/3s'\n",
    "    outputpath = './musicfile/3s/%s' %(p.title)\n",
    "\n",
    "    # # 如果沒有資料夾建立資料夾\n",
    "    if not os.path.isdir(parentfolder):\n",
    "        os.mkdir(parentfolder)\n",
    "    if not os.path.isdir(outputpath):\n",
    "        os.mkdir(outputpath)\n",
    "\n",
    "        # 迴圈目錄下所有檔案\n",
    "    for each in os.listdir(dir):\n",
    "\n",
    "        filename = re.findall(r\"(.*?)\\.wav\", each) # 取出.wav字尾的檔名\n",
    "        print(each)\n",
    "        if each:\n",
    "            # filename[0] += '.wav'\n",
    "            # print(filename[0])\n",
    "\n",
    "            wav = AudioSegment.from_file((dir+'/{}').format(each), \"wav\") # 開啟wav檔案\n",
    "            size = 3000  # 切割的毫秒數 1s=1000\n",
    "\n",
    "            chunks = make_chunks(wav, size)  # 將檔案切割為30s一塊\n",
    "            numstop = len(chunks)-10\n",
    "            for i, chunk in enumerate(chunks):\n",
    "                if numstop>=i>=10:   # 不取前30s及最後30s的部分\n",
    "                    chunk_name = \"{}-{}.wav\".format(each.split(\".\")[0],i)\n",
    "                    chunk.export((outputpath+'/{}').format(chunk_name), format=\"wav\")\n",
    "                    \n",
    "# 30s分割成3s \n",
    "def split30sto3s(p):\n",
    "    dir = './musicfile/30s/%s' %(p.title)\n",
    "    parentfolder = './musicfile/3s'\n",
    "    outputpath = './musicfile/3s/%s' %(p.title)\n",
    "\n",
    "    # # 如果沒有資料夾建立資料夾\n",
    "    if not os.path.isdir(parentfolder):\n",
    "        os.mkdir(parentfolder)\n",
    "    if not os.path.isdir(outputpath):\n",
    "        os.mkdir(outputpath)\n",
    "\n",
    "        # 迴圈目錄下所有檔案\n",
    "    for each in os.listdir(dir):\n",
    "\n",
    "        filename = re.findall(r\"(.*?)\\.wav\", each) # 取出.wav字尾的檔名\n",
    "        print(each)\n",
    "        if each:\n",
    "            # filename[0] += '.wav'\n",
    "            # print(filename[0])\n",
    "\n",
    "            wav = AudioSegment.from_file((dir+'/{}').format(each), \"wav\") # 開啟wav檔案\n",
    "            size = 3000  # 切割的毫秒數 1s=1000\n",
    "            chunks = make_chunks(wav, size)  # 將檔案切割為30s一塊\n",
    "\n",
    "            for i, chunk in enumerate(chunks):\n",
    "                if len(chunk)>=2999:\n",
    "                    chunk_name = \"{}-{}.wav\".format(each.split(\".\")[0],i)\n",
    "                    chunk.export((outputpath+'/{}').format(chunk_name), format=\"wav\")"
   ]
  },
  {
   "cell_type": "code",
   "execution_count": 41,
   "id": "3bc9e026",
   "metadata": {},
   "outputs": [],
   "source": [
    "blue = 'https://youtube.com/playlist?list=PL_4CNbRBv_2W-q07_FUed0CacrTEiQSf1&utm_source=EKLEiJECCKjOmKnC5IiRIQ'\n",
    "classical = 'https://youtube.com/playlist?list=PLVC22euIAtW5qdIKJXnAeeLmBzB1_MVR2'\n",
    "country = 'https://youtube.com/playlist?list=PLYHUBTqX1rAbsUo_WzulBdwkCsW2erVul&utm_source=EKLEiJECCKjOmKnC5IiRIQ'\n",
    "disco = 'https://youtube.com/playlist?list=PLPC4yaVJHMyIGxUSW3C7V0IkNcCUAXjkV'\n",
    "hiphop = 'https://youtube.com/playlist?list=PL_4CNbRBv_2Xpekdw3MP9VMSwnd2S2JOr&utm_source=EKLEiJECCKjOmKnC5IiRIQ'\n",
    "jazz = 'https://youtube.com/playlist?list=PLVC22euIAtW7wSKKdD5gGxVLEjWCxGI-S'\n",
    "metal = 'https://youtube.com/playlist?list=PLYHUBTqX1rAY47k8a0zYCVmU9-5MYfbOF&utm_source=EKLEiJECCKjOmKnC5IiRIQ'\n",
    "pop = 'https://www.youtube.com/playlist?list=PLPC4yaVJHMyLCQmtlUrv2UpbhpqQ6CqUd'\n",
    "reggae = 'https://www.youtube.com/playlist?list=PLMWnoVyYvwScuENn5hrmFizzSjNj6Nrc0'\n",
    "rock = 'https://www.youtube.com/playlist?list=PLQW_s3feqm8U9d62sRd54-mVdRBlli5BM'\n",
    "test = 'https://www.youtube.com/playlist?list=PLQW_s3feqm8Wbpn9PHoJE64ZPIm8KU5IC'"
   ]
  },
  {
   "cell_type": "code",
   "execution_count": 51,
   "id": "bb3e0416",
   "metadata": {
    "collapsed": true
   },
   "outputs": [
    {
     "name": "stdout",
     "output_type": "stream",
     "text": [
      "MoviePy - Writing audio in ./musicfile/wav/rock/rock1.wav\n"
     ]
    },
    {
     "name": "stderr",
     "output_type": "stream",
     "text": [
      "                                                                      \r"
     ]
    },
    {
     "name": "stdout",
     "output_type": "stream",
     "text": [
      "MoviePy - Done.\n",
      "MoviePy - Writing audio in ./musicfile/wav/rock/rock2.wav\n"
     ]
    },
    {
     "name": "stderr",
     "output_type": "stream",
     "text": [
      "                                                                      \r"
     ]
    },
    {
     "name": "stdout",
     "output_type": "stream",
     "text": [
      "MoviePy - Done.\n",
      "MoviePy - Writing audio in ./musicfile/wav/rock/rock3.wav\n"
     ]
    },
    {
     "name": "stderr",
     "output_type": "stream",
     "text": [
      "                                                                      \r"
     ]
    },
    {
     "name": "stdout",
     "output_type": "stream",
     "text": [
      "MoviePy - Done.\n",
      "MoviePy - Writing audio in ./musicfile/wav/rock/rock4.wav\n"
     ]
    },
    {
     "name": "stderr",
     "output_type": "stream",
     "text": [
      "                                                                      \r"
     ]
    },
    {
     "name": "stdout",
     "output_type": "stream",
     "text": [
      "MoviePy - Done.\n",
      "MoviePy - Writing audio in ./musicfile/wav/rock/rock5.wav\n"
     ]
    },
    {
     "name": "stderr",
     "output_type": "stream",
     "text": [
      "                                                                      \r"
     ]
    },
    {
     "name": "stdout",
     "output_type": "stream",
     "text": [
      "MoviePy - Done.\n",
      "MoviePy - Writing audio in ./musicfile/wav/rock/rock6.wav\n"
     ]
    },
    {
     "name": "stderr",
     "output_type": "stream",
     "text": [
      "                                                                      \r"
     ]
    },
    {
     "name": "stdout",
     "output_type": "stream",
     "text": [
      "MoviePy - Done.\n",
      "MoviePy - Writing audio in ./musicfile/wav/rock/rock7.wav\n"
     ]
    },
    {
     "name": "stderr",
     "output_type": "stream",
     "text": [
      "                                                                      \r"
     ]
    },
    {
     "name": "stdout",
     "output_type": "stream",
     "text": [
      "MoviePy - Done.\n",
      "MoviePy - Writing audio in ./musicfile/wav/rock/rock8.wav\n"
     ]
    },
    {
     "name": "stderr",
     "output_type": "stream",
     "text": [
      "                                                                      \r"
     ]
    },
    {
     "name": "stdout",
     "output_type": "stream",
     "text": [
      "MoviePy - Done.\n",
      "MoviePy - Writing audio in ./musicfile/wav/rock/rock9.wav\n"
     ]
    },
    {
     "name": "stderr",
     "output_type": "stream",
     "text": [
      "                                                                      \r"
     ]
    },
    {
     "name": "stdout",
     "output_type": "stream",
     "text": [
      "MoviePy - Done.\n",
      "MoviePy - Writing audio in ./musicfile/wav/rock/rock10.wav\n"
     ]
    },
    {
     "name": "stderr",
     "output_type": "stream",
     "text": [
      "                                                                      \r"
     ]
    },
    {
     "name": "stdout",
     "output_type": "stream",
     "text": [
      "MoviePy - Done.\n",
      "MoviePy - Writing audio in ./musicfile/wav/rock/rock11.wav\n"
     ]
    },
    {
     "name": "stderr",
     "output_type": "stream",
     "text": [
      "                                                                      \r"
     ]
    },
    {
     "name": "stdout",
     "output_type": "stream",
     "text": [
      "MoviePy - Done.\n",
      "MoviePy - Writing audio in ./musicfile/wav/rock/rock12.wav\n"
     ]
    },
    {
     "name": "stderr",
     "output_type": "stream",
     "text": [
      "                                                                      \r"
     ]
    },
    {
     "name": "stdout",
     "output_type": "stream",
     "text": [
      "MoviePy - Done.\n",
      "MoviePy - Writing audio in ./musicfile/wav/rock/rock13.wav\n"
     ]
    },
    {
     "name": "stderr",
     "output_type": "stream",
     "text": [
      "                                                                      \r"
     ]
    },
    {
     "name": "stdout",
     "output_type": "stream",
     "text": [
      "MoviePy - Done.\n",
      "MoviePy - Writing audio in ./musicfile/wav/rock/rock14.wav\n"
     ]
    },
    {
     "name": "stderr",
     "output_type": "stream",
     "text": [
      "                                                                      \r"
     ]
    },
    {
     "name": "stdout",
     "output_type": "stream",
     "text": [
      "MoviePy - Done.\n",
      "MoviePy - Writing audio in ./musicfile/wav/rock/rock15.wav\n"
     ]
    },
    {
     "name": "stderr",
     "output_type": "stream",
     "text": [
      "                                                                      \r"
     ]
    },
    {
     "name": "stdout",
     "output_type": "stream",
     "text": [
      "MoviePy - Done.\n",
      "MoviePy - Writing audio in ./musicfile/wav/rock/rock16.wav\n"
     ]
    },
    {
     "name": "stderr",
     "output_type": "stream",
     "text": [
      "                                                                      \r"
     ]
    },
    {
     "name": "stdout",
     "output_type": "stream",
     "text": [
      "MoviePy - Done.\n",
      "MoviePy - Writing audio in ./musicfile/wav/rock/rock17.wav\n"
     ]
    },
    {
     "name": "stderr",
     "output_type": "stream",
     "text": [
      "                                                                      \r"
     ]
    },
    {
     "name": "stdout",
     "output_type": "stream",
     "text": [
      "MoviePy - Done.\n",
      "MoviePy - Writing audio in ./musicfile/wav/rock/rock18.wav\n"
     ]
    },
    {
     "name": "stderr",
     "output_type": "stream",
     "text": [
      "                                                                      \r"
     ]
    },
    {
     "name": "stdout",
     "output_type": "stream",
     "text": [
      "MoviePy - Done.\n",
      "MoviePy - Writing audio in ./musicfile/wav/rock/rock19.wav\n"
     ]
    },
    {
     "name": "stderr",
     "output_type": "stream",
     "text": [
      "                                                                      \r"
     ]
    },
    {
     "name": "stdout",
     "output_type": "stream",
     "text": [
      "MoviePy - Done.\n",
      "MoviePy - Writing audio in ./musicfile/wav/rock/rock20.wav\n"
     ]
    },
    {
     "name": "stderr",
     "output_type": "stream",
     "text": [
      "                                                                      \r"
     ]
    },
    {
     "name": "stdout",
     "output_type": "stream",
     "text": [
      "MoviePy - Done.\n",
      "MoviePy - Writing audio in ./musicfile/wav/rock/rock21.wav\n"
     ]
    },
    {
     "name": "stderr",
     "output_type": "stream",
     "text": [
      "                                                                      \r"
     ]
    },
    {
     "name": "stdout",
     "output_type": "stream",
     "text": [
      "MoviePy - Done.\n",
      "MoviePy - Writing audio in ./musicfile/wav/rock/rock22.wav\n"
     ]
    },
    {
     "name": "stderr",
     "output_type": "stream",
     "text": [
      "                                                                      \r"
     ]
    },
    {
     "name": "stdout",
     "output_type": "stream",
     "text": [
      "MoviePy - Done.\n",
      "MoviePy - Writing audio in ./musicfile/wav/rock/rock23.wav\n"
     ]
    },
    {
     "name": "stderr",
     "output_type": "stream",
     "text": [
      "                                                                      \r"
     ]
    },
    {
     "name": "stdout",
     "output_type": "stream",
     "text": [
      "MoviePy - Done.\n",
      "MoviePy - Writing audio in ./musicfile/wav/rock/rock24.wav\n"
     ]
    },
    {
     "name": "stderr",
     "output_type": "stream",
     "text": [
      "                                                                      \r"
     ]
    },
    {
     "name": "stdout",
     "output_type": "stream",
     "text": [
      "MoviePy - Done.\n",
      "MoviePy - Writing audio in ./musicfile/wav/rock/rock25.wav\n"
     ]
    },
    {
     "name": "stderr",
     "output_type": "stream",
     "text": [
      "                                                                      \r"
     ]
    },
    {
     "name": "stdout",
     "output_type": "stream",
     "text": [
      "MoviePy - Done.\n",
      "MoviePy - Writing audio in ./musicfile/wav/rock/rock26.wav\n"
     ]
    },
    {
     "name": "stderr",
     "output_type": "stream",
     "text": [
      "                                                                      \r"
     ]
    },
    {
     "name": "stdout",
     "output_type": "stream",
     "text": [
      "MoviePy - Done.\n",
      "MoviePy - Writing audio in ./musicfile/wav/rock/rock27.wav\n"
     ]
    },
    {
     "name": "stderr",
     "output_type": "stream",
     "text": [
      "                                                                      \r"
     ]
    },
    {
     "name": "stdout",
     "output_type": "stream",
     "text": [
      "MoviePy - Done.\n",
      "MoviePy - Writing audio in ./musicfile/wav/rock/rock28.wav\n"
     ]
    },
    {
     "name": "stderr",
     "output_type": "stream",
     "text": [
      "                                                                      \r"
     ]
    },
    {
     "name": "stdout",
     "output_type": "stream",
     "text": [
      "MoviePy - Done.\n",
      "MoviePy - Writing audio in ./musicfile/wav/rock/rock29.wav\n"
     ]
    },
    {
     "name": "stderr",
     "output_type": "stream",
     "text": [
      "                                                                      \r"
     ]
    },
    {
     "name": "stdout",
     "output_type": "stream",
     "text": [
      "MoviePy - Done.\n",
      "MoviePy - Writing audio in ./musicfile/wav/rock/rock30.wav\n"
     ]
    },
    {
     "name": "stderr",
     "output_type": "stream",
     "text": [
      "                                                                      \r"
     ]
    },
    {
     "name": "stdout",
     "output_type": "stream",
     "text": [
      "MoviePy - Done.\n",
      "MoviePy - Writing audio in ./musicfile/wav/rock/rock31.wav\n"
     ]
    },
    {
     "name": "stderr",
     "output_type": "stream",
     "text": [
      "                                                                      \r"
     ]
    },
    {
     "name": "stdout",
     "output_type": "stream",
     "text": [
      "MoviePy - Done.\n",
      "MoviePy - Writing audio in ./musicfile/wav/rock/rock32.wav\n"
     ]
    },
    {
     "name": "stderr",
     "output_type": "stream",
     "text": [
      "                                                                      \r"
     ]
    },
    {
     "name": "stdout",
     "output_type": "stream",
     "text": [
      "MoviePy - Done.\n",
      "MoviePy - Writing audio in ./musicfile/wav/rock/rock33.wav\n"
     ]
    },
    {
     "name": "stderr",
     "output_type": "stream",
     "text": [
      "                                                                      \r"
     ]
    },
    {
     "name": "stdout",
     "output_type": "stream",
     "text": [
      "MoviePy - Done.\n",
      "MoviePy - Writing audio in ./musicfile/wav/rock/rock34.wav\n"
     ]
    },
    {
     "name": "stderr",
     "output_type": "stream",
     "text": [
      "                                                                      \r"
     ]
    },
    {
     "name": "stdout",
     "output_type": "stream",
     "text": [
      "MoviePy - Done.\n",
      "MoviePy - Writing audio in ./musicfile/wav/rock/rock35.wav\n"
     ]
    },
    {
     "name": "stderr",
     "output_type": "stream",
     "text": [
      "                                                                      \r"
     ]
    },
    {
     "name": "stdout",
     "output_type": "stream",
     "text": [
      "MoviePy - Done.\n",
      "MoviePy - Writing audio in ./musicfile/wav/rock/rock36.wav\n"
     ]
    },
    {
     "name": "stderr",
     "output_type": "stream",
     "text": [
      "                                                                      \r"
     ]
    },
    {
     "name": "stdout",
     "output_type": "stream",
     "text": [
      "MoviePy - Done.\n",
      "MoviePy - Writing audio in ./musicfile/wav/rock/rock37.wav\n"
     ]
    },
    {
     "name": "stderr",
     "output_type": "stream",
     "text": [
      "                                                                      \r"
     ]
    },
    {
     "name": "stdout",
     "output_type": "stream",
     "text": [
      "MoviePy - Done.\n",
      "MoviePy - Writing audio in ./musicfile/wav/rock/rock38.wav\n"
     ]
    },
    {
     "name": "stderr",
     "output_type": "stream",
     "text": [
      "                                                                      \r"
     ]
    },
    {
     "name": "stdout",
     "output_type": "stream",
     "text": [
      "MoviePy - Done.\n",
      "MoviePy - Writing audio in ./musicfile/wav/rock/rock39.wav\n"
     ]
    },
    {
     "name": "stderr",
     "output_type": "stream",
     "text": [
      "                                                                      \r"
     ]
    },
    {
     "name": "stdout",
     "output_type": "stream",
     "text": [
      "MoviePy - Done.\n",
      "MoviePy - Writing audio in ./musicfile/wav/rock/rock40.wav\n"
     ]
    },
    {
     "name": "stderr",
     "output_type": "stream",
     "text": [
      "                                                                      \r"
     ]
    },
    {
     "name": "stdout",
     "output_type": "stream",
     "text": [
      "MoviePy - Done.\n",
      "MoviePy - Writing audio in ./musicfile/wav/rock/rock41.wav\n"
     ]
    },
    {
     "name": "stderr",
     "output_type": "stream",
     "text": [
      "                                                                      \r"
     ]
    },
    {
     "name": "stdout",
     "output_type": "stream",
     "text": [
      "MoviePy - Done.\n",
      "MoviePy - Writing audio in ./musicfile/wav/rock/rock42.wav\n"
     ]
    },
    {
     "name": "stderr",
     "output_type": "stream",
     "text": [
      "                                                                      \r"
     ]
    },
    {
     "name": "stdout",
     "output_type": "stream",
     "text": [
      "MoviePy - Done.\n",
      "MoviePy - Writing audio in ./musicfile/wav/rock/rock43.wav\n"
     ]
    },
    {
     "name": "stderr",
     "output_type": "stream",
     "text": [
      "                                                                      \r"
     ]
    },
    {
     "name": "stdout",
     "output_type": "stream",
     "text": [
      "MoviePy - Done.\n",
      "MoviePy - Writing audio in ./musicfile/wav/rock/rock44.wav\n"
     ]
    },
    {
     "name": "stderr",
     "output_type": "stream",
     "text": [
      "                                                                      \r"
     ]
    },
    {
     "name": "stdout",
     "output_type": "stream",
     "text": [
      "MoviePy - Done.\n",
      "MoviePy - Writing audio in ./musicfile/wav/rock/rock45.wav\n"
     ]
    },
    {
     "name": "stderr",
     "output_type": "stream",
     "text": [
      "                                                                      \r"
     ]
    },
    {
     "name": "stdout",
     "output_type": "stream",
     "text": [
      "MoviePy - Done.\n",
      "MoviePy - Writing audio in ./musicfile/wav/rock/rock46.wav\n"
     ]
    },
    {
     "name": "stderr",
     "output_type": "stream",
     "text": [
      "                                                                      \r"
     ]
    },
    {
     "name": "stdout",
     "output_type": "stream",
     "text": [
      "MoviePy - Done.\n",
      "MoviePy - Writing audio in ./musicfile/wav/rock/rock47.wav\n"
     ]
    },
    {
     "name": "stderr",
     "output_type": "stream",
     "text": [
      "                                                                      \r"
     ]
    },
    {
     "name": "stdout",
     "output_type": "stream",
     "text": [
      "MoviePy - Done.\n",
      "MoviePy - Writing audio in ./musicfile/wav/rock/rock48.wav\n"
     ]
    },
    {
     "name": "stderr",
     "output_type": "stream",
     "text": [
      "                                                                      \r"
     ]
    },
    {
     "name": "stdout",
     "output_type": "stream",
     "text": [
      "MoviePy - Done.\n",
      "MoviePy - Writing audio in ./musicfile/wav/rock/rock49.wav\n"
     ]
    },
    {
     "name": "stderr",
     "output_type": "stream",
     "text": [
      "                                                                      \r"
     ]
    },
    {
     "name": "stdout",
     "output_type": "stream",
     "text": [
      "MoviePy - Done.\n",
      "MoviePy - Writing audio in ./musicfile/wav/rock/rock50.wav\n"
     ]
    },
    {
     "name": "stderr",
     "output_type": "stream",
     "text": [
      "                                                                      \r"
     ]
    },
    {
     "name": "stdout",
     "output_type": "stream",
     "text": [
      "MoviePy - Done.\n",
      "MoviePy - Writing audio in ./musicfile/wav/rock/rock51.wav\n"
     ]
    },
    {
     "name": "stderr",
     "output_type": "stream",
     "text": [
      "                                                                      \r"
     ]
    },
    {
     "name": "stdout",
     "output_type": "stream",
     "text": [
      "MoviePy - Done.\n",
      "MoviePy - Writing audio in ./musicfile/wav/rock/rock52.wav\n"
     ]
    },
    {
     "name": "stderr",
     "output_type": "stream",
     "text": [
      "                                                                      \r"
     ]
    },
    {
     "name": "stdout",
     "output_type": "stream",
     "text": [
      "MoviePy - Done.\n",
      "MoviePy - Writing audio in ./musicfile/wav/rock/rock53.wav\n"
     ]
    },
    {
     "name": "stderr",
     "output_type": "stream",
     "text": [
      "                                                                      \r"
     ]
    },
    {
     "name": "stdout",
     "output_type": "stream",
     "text": [
      "MoviePy - Done.\n",
      "MoviePy - Writing audio in ./musicfile/wav/rock/rock54.wav\n"
     ]
    },
    {
     "name": "stderr",
     "output_type": "stream",
     "text": [
      "                                                                      \r"
     ]
    },
    {
     "name": "stdout",
     "output_type": "stream",
     "text": [
      "MoviePy - Done.\n",
      "MoviePy - Writing audio in ./musicfile/wav/rock/rock55.wav\n"
     ]
    },
    {
     "name": "stderr",
     "output_type": "stream",
     "text": [
      "                                                                      \r"
     ]
    },
    {
     "name": "stdout",
     "output_type": "stream",
     "text": [
      "MoviePy - Done.\n",
      "MoviePy - Writing audio in ./musicfile/wav/rock/rock56.wav\n"
     ]
    },
    {
     "name": "stderr",
     "output_type": "stream",
     "text": [
      "                                                                      \r"
     ]
    },
    {
     "name": "stdout",
     "output_type": "stream",
     "text": [
      "MoviePy - Done.\n",
      "MoviePy - Writing audio in ./musicfile/wav/rock/rock57.wav\n"
     ]
    },
    {
     "name": "stderr",
     "output_type": "stream",
     "text": [
      "                                                                      \r"
     ]
    },
    {
     "name": "stdout",
     "output_type": "stream",
     "text": [
      "MoviePy - Done.\n",
      "MoviePy - Writing audio in ./musicfile/wav/rock/rock58.wav\n"
     ]
    },
    {
     "name": "stderr",
     "output_type": "stream",
     "text": [
      "                                                                      \r"
     ]
    },
    {
     "name": "stdout",
     "output_type": "stream",
     "text": [
      "MoviePy - Done.\n",
      "MoviePy - Writing audio in ./musicfile/wav/rock/rock59.wav\n"
     ]
    },
    {
     "name": "stderr",
     "output_type": "stream",
     "text": [
      "                                                                      \r"
     ]
    },
    {
     "name": "stdout",
     "output_type": "stream",
     "text": [
      "MoviePy - Done.\n",
      "MoviePy - Writing audio in ./musicfile/wav/rock/rock60.wav\n"
     ]
    },
    {
     "name": "stderr",
     "output_type": "stream",
     "text": [
      "                                                                      \r"
     ]
    },
    {
     "name": "stdout",
     "output_type": "stream",
     "text": [
      "MoviePy - Done.\n",
      "MoviePy - Writing audio in ./musicfile/wav/rock/rock61.wav\n"
     ]
    },
    {
     "name": "stderr",
     "output_type": "stream",
     "text": [
      "                                                                      \r"
     ]
    },
    {
     "name": "stdout",
     "output_type": "stream",
     "text": [
      "MoviePy - Done.\n",
      "MoviePy - Writing audio in ./musicfile/wav/rock/rock62.wav\n"
     ]
    },
    {
     "name": "stderr",
     "output_type": "stream",
     "text": [
      "                                                                      \r"
     ]
    },
    {
     "name": "stdout",
     "output_type": "stream",
     "text": [
      "MoviePy - Done.\n",
      "MoviePy - Writing audio in ./musicfile/wav/rock/rock63.wav\n"
     ]
    },
    {
     "name": "stderr",
     "output_type": "stream",
     "text": [
      "                                                                      \r"
     ]
    },
    {
     "name": "stdout",
     "output_type": "stream",
     "text": [
      "MoviePy - Done.\n",
      "MoviePy - Writing audio in ./musicfile/wav/rock/rock64.wav\n"
     ]
    },
    {
     "name": "stderr",
     "output_type": "stream",
     "text": [
      "                                                                      \r"
     ]
    },
    {
     "name": "stdout",
     "output_type": "stream",
     "text": [
      "MoviePy - Done.\n",
      "MoviePy - Writing audio in ./musicfile/wav/rock/rock65.wav\n"
     ]
    },
    {
     "name": "stderr",
     "output_type": "stream",
     "text": [
      "                                                                      \r"
     ]
    },
    {
     "name": "stdout",
     "output_type": "stream",
     "text": [
      "MoviePy - Done.\n",
      "MoviePy - Writing audio in ./musicfile/wav/rock/rock66.wav\n"
     ]
    },
    {
     "name": "stderr",
     "output_type": "stream",
     "text": [
      "                                                                      \r"
     ]
    },
    {
     "name": "stdout",
     "output_type": "stream",
     "text": [
      "MoviePy - Done.\n",
      "MoviePy - Writing audio in ./musicfile/wav/rock/rock67.wav\n"
     ]
    },
    {
     "name": "stderr",
     "output_type": "stream",
     "text": [
      "                                                                      \r"
     ]
    },
    {
     "name": "stdout",
     "output_type": "stream",
     "text": [
      "MoviePy - Done.\n",
      "MoviePy - Writing audio in ./musicfile/wav/rock/rock68.wav\n"
     ]
    },
    {
     "name": "stderr",
     "output_type": "stream",
     "text": [
      "                                                                      \r"
     ]
    },
    {
     "name": "stdout",
     "output_type": "stream",
     "text": [
      "MoviePy - Done.\n",
      "MoviePy - Writing audio in ./musicfile/wav/rock/rock69.wav\n"
     ]
    },
    {
     "name": "stderr",
     "output_type": "stream",
     "text": [
      "                                                                      \r"
     ]
    },
    {
     "name": "stdout",
     "output_type": "stream",
     "text": [
      "MoviePy - Done.\n",
      "MoviePy - Writing audio in ./musicfile/wav/rock/rock70.wav\n"
     ]
    },
    {
     "name": "stderr",
     "output_type": "stream",
     "text": [
      "                                                                      \r"
     ]
    },
    {
     "name": "stdout",
     "output_type": "stream",
     "text": [
      "MoviePy - Done.\n",
      "MoviePy - Writing audio in ./musicfile/wav/rock/rock71.wav\n"
     ]
    },
    {
     "name": "stderr",
     "output_type": "stream",
     "text": [
      "                                                                      \r"
     ]
    },
    {
     "name": "stdout",
     "output_type": "stream",
     "text": [
      "MoviePy - Done.\n",
      "MoviePy - Writing audio in ./musicfile/wav/rock/rock72.wav\n"
     ]
    },
    {
     "name": "stderr",
     "output_type": "stream",
     "text": [
      "                                                                      \r"
     ]
    },
    {
     "name": "stdout",
     "output_type": "stream",
     "text": [
      "MoviePy - Done.\n",
      "MoviePy - Writing audio in ./musicfile/wav/rock/rock73.wav\n"
     ]
    },
    {
     "name": "stderr",
     "output_type": "stream",
     "text": [
      "                                                                      \r"
     ]
    },
    {
     "name": "stdout",
     "output_type": "stream",
     "text": [
      "MoviePy - Done.\n",
      "MoviePy - Writing audio in ./musicfile/wav/rock/rock74.wav\n"
     ]
    },
    {
     "name": "stderr",
     "output_type": "stream",
     "text": [
      "                                                                      \r"
     ]
    },
    {
     "name": "stdout",
     "output_type": "stream",
     "text": [
      "MoviePy - Done.\n",
      "MoviePy - Writing audio in ./musicfile/wav/rock/rock75.wav\n"
     ]
    },
    {
     "name": "stderr",
     "output_type": "stream",
     "text": [
      "                                                                      \r"
     ]
    },
    {
     "name": "stdout",
     "output_type": "stream",
     "text": [
      "MoviePy - Done.\n",
      "rock1.wav\n",
      "rock10.wav\n",
      "rock11.wav\n",
      "rock12.wav\n",
      "rock13.wav\n",
      "rock14.wav\n",
      "rock15.wav\n",
      "rock16.wav\n",
      "rock17.wav\n",
      "rock18.wav\n",
      "rock19.wav\n",
      "rock2.wav\n",
      "rock20.wav\n",
      "rock21.wav\n",
      "rock22.wav\n",
      "rock23.wav\n",
      "rock24.wav\n",
      "rock25.wav\n",
      "rock26.wav\n",
      "rock27.wav\n",
      "rock28.wav\n",
      "rock29.wav\n",
      "rock3.wav\n",
      "rock30.wav\n",
      "rock31.wav\n",
      "rock32.wav\n",
      "rock33.wav\n",
      "rock34.wav\n",
      "rock35.wav\n",
      "rock36.wav\n",
      "rock37.wav\n",
      "rock38.wav\n",
      "rock39.wav\n",
      "rock4.wav\n",
      "rock40.wav\n",
      "rock41.wav\n",
      "rock42.wav\n",
      "rock43.wav\n",
      "rock44.wav\n",
      "rock45.wav\n",
      "rock46.wav\n",
      "rock47.wav\n",
      "rock48.wav\n",
      "rock49.wav\n",
      "rock5.wav\n",
      "rock50.wav\n",
      "rock51.wav\n",
      "rock52.wav\n",
      "rock53.wav\n",
      "rock54.wav\n",
      "rock55.wav\n",
      "rock56.wav\n",
      "rock57.wav\n",
      "rock58.wav\n",
      "rock59.wav\n",
      "rock6.wav\n",
      "rock60.wav\n",
      "rock61.wav\n",
      "rock62.wav\n",
      "rock63.wav\n",
      "rock64.wav\n",
      "rock65.wav\n",
      "rock66.wav\n",
      "rock67.wav\n",
      "rock68.wav\n",
      "rock69.wav\n",
      "rock7.wav\n",
      "rock70.wav\n",
      "rock71.wav\n",
      "rock72.wav\n",
      "rock73.wav\n",
      "rock74.wav\n",
      "rock75.wav\n",
      "rock8.wav\n",
      "rock9.wav\n",
      "rock1-1.wav\n",
      "rock1-2.wav\n",
      "rock1-3.wav\n",
      "rock1-4.wav\n",
      "rock1-5.wav\n",
      "rock1-6.wav\n",
      "rock1-7.wav\n",
      "rock10-1.wav\n",
      "rock10-2.wav\n",
      "rock10-3.wav\n",
      "rock10-4.wav\n",
      "rock11-1.wav\n",
      "rock11-2.wav\n",
      "rock11-3.wav\n",
      "rock11-4.wav\n",
      "rock11-5.wav\n",
      "rock11-6.wav\n",
      "rock11-7.wav\n",
      "rock12-1.wav\n",
      "rock12-2.wav\n",
      "rock12-3.wav\n",
      "rock12-4.wav\n",
      "rock12-5.wav\n",
      "rock12-6.wav\n",
      "rock13-1.wav\n",
      "rock13-2.wav\n",
      "rock13-3.wav\n",
      "rock13-4.wav\n",
      "rock13-5.wav\n",
      "rock13-6.wav\n",
      "rock14-1.wav\n",
      "rock14-2.wav\n",
      "rock14-3.wav\n",
      "rock14-4.wav\n",
      "rock14-5.wav\n",
      "rock14-6.wav\n",
      "rock14-7.wav\n",
      "rock14-8.wav\n",
      "rock14-9.wav\n",
      "rock15-1.wav\n",
      "rock15-2.wav\n",
      "rock15-3.wav\n",
      "rock16-1.wav\n",
      "rock16-2.wav\n",
      "rock16-3.wav\n",
      "rock16-4.wav\n",
      "rock17-1.wav\n",
      "rock17-2.wav\n",
      "rock17-3.wav\n",
      "rock17-4.wav\n",
      "rock17-5.wav\n",
      "rock17-6.wav\n",
      "rock17-7.wav\n",
      "rock17-8.wav\n",
      "rock18-1.wav\n",
      "rock18-2.wav\n",
      "rock18-3.wav\n",
      "rock18-4.wav\n",
      "rock18-5.wav\n",
      "rock19-1.wav\n",
      "rock19-2.wav\n",
      "rock19-3.wav\n",
      "rock19-4.wav\n",
      "rock19-5.wav\n",
      "rock2-1.wav\n",
      "rock2-10.wav\n",
      "rock2-11.wav\n",
      "rock2-2.wav\n",
      "rock2-3.wav\n",
      "rock2-4.wav\n",
      "rock2-5.wav\n",
      "rock2-6.wav\n",
      "rock2-7.wav\n",
      "rock2-8.wav\n",
      "rock2-9.wav\n",
      "rock20-1.wav\n",
      "rock20-2.wav\n",
      "rock20-3.wav\n",
      "rock20-4.wav\n",
      "rock20-5.wav\n",
      "rock21-1.wav\n",
      "rock21-2.wav\n",
      "rock21-3.wav\n",
      "rock21-4.wav\n",
      "rock21-5.wav\n",
      "rock21-6.wav\n",
      "rock21-7.wav\n",
      "rock21-8.wav\n",
      "rock22-1.wav\n",
      "rock22-2.wav\n",
      "rock22-3.wav\n",
      "rock22-4.wav\n",
      "rock22-5.wav\n",
      "rock22-6.wav\n",
      "rock22-7.wav\n",
      "rock23-1.wav\n",
      "rock23-2.wav\n",
      "rock23-3.wav\n",
      "rock23-4.wav\n",
      "rock24-1.wav\n",
      "rock24-2.wav\n",
      "rock24-3.wav\n",
      "rock24-4.wav\n",
      "rock24-5.wav\n",
      "rock24-6.wav\n",
      "rock24-7.wav\n",
      "rock25-1.wav\n",
      "rock25-2.wav\n",
      "rock25-3.wav\n",
      "rock25-4.wav\n",
      "rock26-1.wav\n",
      "rock26-2.wav\n",
      "rock26-3.wav\n",
      "rock26-4.wav\n",
      "rock26-5.wav\n",
      "rock26-6.wav\n",
      "rock26-7.wav\n",
      "rock27-1.wav\n",
      "rock27-2.wav\n",
      "rock27-3.wav\n",
      "rock27-4.wav\n",
      "rock27-5.wav\n",
      "rock28-1.wav\n",
      "rock28-2.wav\n",
      "rock28-3.wav\n",
      "rock28-4.wav\n",
      "rock28-5.wav\n",
      "rock28-6.wav\n",
      "rock28-7.wav\n",
      "rock28-8.wav\n",
      "rock29-1.wav\n",
      "rock29-2.wav\n",
      "rock29-3.wav\n",
      "rock29-4.wav\n",
      "rock29-5.wav\n",
      "rock29-6.wav\n",
      "rock3-1.wav\n",
      "rock3-2.wav\n",
      "rock3-3.wav\n",
      "rock3-4.wav\n",
      "rock3-5.wav\n",
      "rock3-6.wav\n",
      "rock30-1.wav\n",
      "rock30-2.wav\n",
      "rock30-3.wav\n",
      "rock30-4.wav\n",
      "rock30-5.wav\n",
      "rock30-6.wav\n",
      "rock30-7.wav\n",
      "rock30-8.wav\n",
      "rock31-1.wav\n",
      "rock31-2.wav\n",
      "rock31-3.wav\n",
      "rock31-4.wav\n",
      "rock31-5.wav\n",
      "rock31-6.wav\n",
      "rock32-1.wav\n",
      "rock32-2.wav\n",
      "rock32-3.wav\n",
      "rock32-4.wav\n",
      "rock32-5.wav\n",
      "rock33-1.wav\n",
      "rock33-2.wav\n",
      "rock33-3.wav\n",
      "rock33-4.wav\n",
      "rock33-5.wav\n",
      "rock33-6.wav\n",
      "rock34-1.wav\n",
      "rock34-2.wav\n",
      "rock34-3.wav\n",
      "rock34-4.wav\n",
      "rock34-5.wav\n",
      "rock34-6.wav\n",
      "rock34-7.wav\n",
      "rock35-1.wav\n",
      "rock35-2.wav\n",
      "rock35-3.wav\n",
      "rock35-4.wav\n",
      "rock35-5.wav\n",
      "rock35-6.wav\n",
      "rock35-7.wav\n",
      "rock36-1.wav\n",
      "rock36-2.wav\n",
      "rock36-3.wav\n",
      "rock36-4.wav\n",
      "rock36-5.wav\n",
      "rock36-6.wav\n",
      "rock37-1.wav\n",
      "rock37-2.wav\n",
      "rock37-3.wav\n",
      "rock37-4.wav\n",
      "rock37-5.wav\n",
      "rock37-6.wav\n",
      "rock38-1.wav\n",
      "rock38-2.wav\n",
      "rock38-3.wav\n",
      "rock38-4.wav\n",
      "rock38-5.wav\n",
      "rock38-6.wav\n",
      "rock38-7.wav\n",
      "rock39-1.wav\n",
      "rock39-2.wav\n",
      "rock39-3.wav\n",
      "rock39-4.wav\n",
      "rock39-5.wav\n",
      "rock39-6.wav\n",
      "rock4-1.wav\n",
      "rock4-2.wav\n",
      "rock4-3.wav\n",
      "rock4-4.wav\n",
      "rock4-5.wav\n",
      "rock4-6.wav\n",
      "rock4-7.wav\n",
      "rock4-8.wav\n",
      "rock4-9.wav\n",
      "rock40-1.wav\n",
      "rock40-2.wav\n",
      "rock40-3.wav\n",
      "rock40-4.wav\n",
      "rock40-5.wav\n",
      "rock41-1.wav\n",
      "rock41-10.wav\n",
      "rock41-2.wav\n",
      "rock41-3.wav\n",
      "rock41-4.wav\n",
      "rock41-5.wav\n",
      "rock41-6.wav\n",
      "rock41-7.wav\n",
      "rock41-8.wav\n",
      "rock41-9.wav\n",
      "rock42-1.wav\n",
      "rock42-2.wav\n",
      "rock42-3.wav\n",
      "rock42-4.wav\n",
      "rock42-5.wav\n",
      "rock42-6.wav\n",
      "rock43-1.wav\n",
      "rock43-2.wav\n",
      "rock43-3.wav\n",
      "rock43-4.wav\n",
      "rock43-5.wav\n",
      "rock44-1.wav\n",
      "rock44-2.wav\n",
      "rock44-3.wav\n",
      "rock44-4.wav\n",
      "rock44-5.wav\n",
      "rock45-1.wav\n",
      "rock45-2.wav\n",
      "rock45-3.wav\n",
      "rock45-4.wav\n",
      "rock45-5.wav\n",
      "rock45-6.wav\n",
      "rock46-1.wav\n",
      "rock46-2.wav\n",
      "rock46-3.wav\n",
      "rock46-4.wav\n",
      "rock46-5.wav\n",
      "rock46-6.wav\n",
      "rock46-7.wav\n",
      "rock46-8.wav\n",
      "rock47-1.wav\n",
      "rock47-2.wav\n",
      "rock47-3.wav\n",
      "rock47-4.wav\n",
      "rock47-5.wav\n",
      "rock48-1.wav\n",
      "rock48-2.wav\n",
      "rock48-3.wav\n",
      "rock48-4.wav\n",
      "rock49-1.wav\n",
      "rock49-2.wav\n",
      "rock49-3.wav\n",
      "rock49-4.wav\n",
      "rock49-5.wav\n",
      "rock5-1.wav\n",
      "rock5-2.wav\n",
      "rock5-3.wav\n",
      "rock5-4.wav\n",
      "rock5-5.wav\n",
      "rock50-1.wav\n",
      "rock50-2.wav\n",
      "rock50-3.wav\n",
      "rock50-4.wav\n",
      "rock50-5.wav\n",
      "rock50-6.wav\n",
      "rock51-1.wav\n",
      "rock51-2.wav\n",
      "rock51-3.wav\n",
      "rock51-4.wav\n",
      "rock51-5.wav\n",
      "rock52-1.wav\n",
      "rock52-2.wav\n",
      "rock52-3.wav\n",
      "rock52-4.wav\n",
      "rock52-5.wav\n",
      "rock53-1.wav\n",
      "rock53-2.wav\n",
      "rock53-3.wav\n",
      "rock53-4.wav\n",
      "rock53-5.wav\n",
      "rock54-1.wav\n",
      "rock54-2.wav\n",
      "rock54-3.wav\n",
      "rock54-4.wav\n",
      "rock54-5.wav\n",
      "rock55-1.wav\n",
      "rock55-2.wav\n",
      "rock55-3.wav\n",
      "rock55-4.wav\n",
      "rock55-5.wav\n",
      "rock55-6.wav\n",
      "rock55-7.wav\n",
      "rock56-1.wav\n",
      "rock56-2.wav\n",
      "rock56-3.wav\n",
      "rock56-4.wav\n",
      "rock56-5.wav\n",
      "rock56-6.wav\n",
      "rock57-1.wav\n",
      "rock57-2.wav\n",
      "rock57-3.wav\n",
      "rock57-4.wav\n",
      "rock57-5.wav\n",
      "rock57-6.wav\n",
      "rock57-7.wav\n",
      "rock57-8.wav\n",
      "rock57-9.wav\n",
      "rock58-1.wav\n",
      "rock58-2.wav\n",
      "rock58-3.wav\n",
      "rock58-4.wav\n",
      "rock58-5.wav\n",
      "rock58-6.wav\n",
      "rock59-1.wav\n",
      "rock59-2.wav\n",
      "rock59-3.wav\n",
      "rock59-4.wav\n",
      "rock59-5.wav\n",
      "rock59-6.wav\n",
      "rock6-1.wav\n",
      "rock6-2.wav\n",
      "rock6-3.wav\n",
      "rock6-4.wav\n",
      "rock6-5.wav\n",
      "rock6-6.wav\n",
      "rock6-7.wav\n",
      "rock60-1.wav\n",
      "rock60-2.wav\n",
      "rock60-3.wav\n",
      "rock60-4.wav\n",
      "rock60-5.wav\n",
      "rock60-6.wav\n",
      "rock61-1.wav\n",
      "rock61-2.wav\n",
      "rock61-3.wav\n",
      "rock61-4.wav\n",
      "rock61-5.wav\n",
      "rock61-6.wav\n",
      "rock61-7.wav\n",
      "rock61-8.wav\n",
      "rock61-9.wav\n",
      "rock62-1.wav\n",
      "rock62-2.wav\n",
      "rock62-3.wav\n",
      "rock62-4.wav\n",
      "rock62-5.wav\n",
      "rock62-6.wav\n",
      "rock62-7.wav\n",
      "rock62-8.wav\n",
      "rock63-1.wav\n",
      "rock63-2.wav\n",
      "rock63-3.wav\n",
      "rock63-4.wav\n",
      "rock63-5.wav\n",
      "rock64-1.wav\n",
      "rock64-2.wav\n",
      "rock64-3.wav\n",
      "rock64-4.wav\n",
      "rock64-5.wav\n",
      "rock65-1.wav\n",
      "rock65-2.wav\n",
      "rock65-3.wav\n",
      "rock65-4.wav\n",
      "rock66-1.wav\n",
      "rock66-2.wav\n",
      "rock66-3.wav\n",
      "rock66-4.wav\n",
      "rock66-5.wav\n",
      "rock67-1.wav\n",
      "rock67-2.wav\n",
      "rock67-3.wav\n",
      "rock67-4.wav\n",
      "rock67-5.wav\n",
      "rock67-6.wav\n",
      "rock67-7.wav\n",
      "rock68-1.wav\n",
      "rock68-2.wav\n",
      "rock68-3.wav\n",
      "rock68-4.wav\n",
      "rock68-5.wav\n",
      "rock69-1.wav\n",
      "rock69-2.wav\n",
      "rock69-3.wav\n",
      "rock69-4.wav\n",
      "rock69-5.wav\n",
      "rock69-6.wav\n",
      "rock7-1.wav\n",
      "rock7-2.wav\n",
      "rock7-3.wav\n",
      "rock7-4.wav\n",
      "rock7-5.wav\n",
      "rock70-1.wav\n",
      "rock70-2.wav\n",
      "rock70-3.wav\n",
      "rock70-4.wav\n",
      "rock70-5.wav\n",
      "rock70-6.wav\n",
      "rock71-1.wav\n",
      "rock71-2.wav\n",
      "rock71-3.wav\n",
      "rock71-4.wav\n",
      "rock71-5.wav\n",
      "rock71-6.wav\n",
      "rock72-1.wav\n",
      "rock72-2.wav\n",
      "rock72-3.wav\n",
      "rock72-4.wav\n",
      "rock72-5.wav\n",
      "rock72-6.wav\n",
      "rock73-1.wav\n",
      "rock73-2.wav\n",
      "rock73-3.wav\n",
      "rock73-4.wav\n",
      "rock73-5.wav\n",
      "rock73-6.wav\n",
      "rock74-1.wav\n",
      "rock74-2.wav\n",
      "rock74-3.wav\n",
      "rock74-4.wav\n",
      "rock74-5.wav\n",
      "rock74-6.wav\n",
      "rock75-1.wav\n",
      "rock75-2.wav\n",
      "rock75-3.wav\n",
      "rock75-4.wav\n",
      "rock75-5.wav\n",
      "rock8-1.wav\n",
      "rock8-2.wav\n",
      "rock8-3.wav\n",
      "rock8-4.wav\n",
      "rock9-1.wav\n",
      "rock9-2.wav\n",
      "rock9-3.wav\n",
      "rock9-4.wav\n",
      "rock9-5.wav\n",
      "rock9-6.wav\n",
      "rock9-7.wav\n",
      "This time is being calculated\n",
      "142.72139289999996\n"
     ]
    }
   ],
   "source": [
    "# 建立 Playlist 物件\n",
    "p = Playlist(rock)\n",
    "\n",
    "start = time.perf_counter()\n",
    "\n",
    "# download(p)\n",
    "videotowav(p)\n",
    "split30s(p)\n",
    "# split3s(p)\n",
    "split30sto3s(p)\n",
    "\n",
    "print(\"This time is being calculated\")\n",
    "\n",
    "end = time.perf_counter()\n",
    "\n",
    "print(end - start)"
   ]
  },
  {
   "cell_type": "code",
   "execution_count": null,
   "id": "41b0677f",
   "metadata": {},
   "outputs": [],
   "source": []
  }
 ],
 "metadata": {
  "kernelspec": {
   "display_name": "Python 3 (ipykernel)",
   "language": "python",
   "name": "python3"
  },
  "language_info": {
   "codemirror_mode": {
    "name": "ipython",
    "version": 3
   },
   "file_extension": ".py",
   "mimetype": "text/x-python",
   "name": "python",
   "nbconvert_exporter": "python",
   "pygments_lexer": "ipython3",
   "version": "3.8.13"
  }
 },
 "nbformat": 4,
 "nbformat_minor": 5
}
